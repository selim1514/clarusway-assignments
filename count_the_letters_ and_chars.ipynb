{
 "cells": [
  {
   "cell_type": "code",
   "execution_count": 19,
   "id": "4c626cf9",
   "metadata": {},
   "outputs": [
    {
     "data": {
      "text/plain": [
       "1"
      ]
     },
     "execution_count": 19,
     "metadata": {},
     "output_type": "execute_result"
    }
   ],
   "source": [
    "sentence = \"clarusway is good!\"\n",
    "sentence.count(\"a\")\n",
    "sentence.count(sentence[0])\n"
   ]
  },
  {
   "cell_type": "code",
   "execution_count": 21,
   "id": "d4cd1955",
   "metadata": {},
   "outputs": [],
   "source": [
    "#for i in range(len(sentence)):\n",
    "    #print(sentence[i])"
   ]
  },
  {
   "cell_type": "code",
   "execution_count": 22,
   "id": "1cc12d1f",
   "metadata": {},
   "outputs": [
    {
     "name": "stdout",
     "output_type": "stream",
     "text": [
      "{'c': '1', 'l': '1', 'a': '2', 'r': '1', 'u': '1', 's': '2', 'w': '1', 'y': '1', ' ': '2', 'i': '1', 'g': '1', 'o': '2', 'd': '1', '!': '1'}\n"
     ]
    }
   ],
   "source": [
    "new_dict = {}\n",
    "for i in range(len(sentence)):\n",
    "    new_dict[sentence[i]] = str(sentence.count(sentence[i]))\n",
    "print(new_dict)\n",
    "    "
   ]
  },
  {
   "cell_type": "code",
   "execution_count": null,
   "id": "17707544",
   "metadata": {},
   "outputs": [],
   "source": []
  }
 ],
 "metadata": {
  "kernelspec": {
   "display_name": "Python 3",
   "language": "python",
   "name": "python3"
  },
  "language_info": {
   "codemirror_mode": {
    "name": "ipython",
    "version": 3
   },
   "file_extension": ".py",
   "mimetype": "text/x-python",
   "name": "python",
   "nbconvert_exporter": "python",
   "pygments_lexer": "ipython3",
   "version": "3.8.8"
  }
 },
 "nbformat": 4,
 "nbformat_minor": 5
}
